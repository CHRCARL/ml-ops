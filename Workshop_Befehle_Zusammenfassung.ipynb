{
 "cells": [
  {
   "cell_type": "markdown",
   "id": "9bca5e4c",
   "metadata": {},
   "source": [
    "# DB Systel MLOps Workshop"
   ]
  },
  {
   "cell_type": "markdown",
   "id": "c7c3d6a0",
   "metadata": {},
   "source": [
    "## Zusammenfassung der Befehle des Workshops"
   ]
  },
  {
   "cell_type": "markdown",
   "id": "7fa5b445",
   "metadata": {},
   "source": [
    "### 1 Einrichtung der Sandbox\n",
    "\n",
    "Folgt der Anleitung in `readme.md` zum erstellen der Sandbox Umgebung."
   ]
  },
  {
   "cell_type": "markdown",
   "id": "eeddbcb5",
   "metadata": {},
   "source": []
  },
  {
   "cell_type": "markdown",
   "id": "424429bf",
   "metadata": {},
   "source": [
    "### 2 Konfiguration unserer MLOps Sandbox"
   ]
  },
  {
   "cell_type": "markdown",
   "id": "aa39ed99",
   "metadata": {},
   "source": [
    "#### 2.1 Installiert Flyte in eurem k3d Cluster"
   ]
  },
  {
   "cell_type": "markdown",
   "id": "5624889d",
   "metadata": {},
   "source": [
    "Fügt das `flyteorg` helm repository hinzu. \n",
    "\n",
    "(erfordert die Installation des Kubernetes Package Managers `Helm`, führt dazu `brew install helm` oder siehe die Installationsseite, [hier](https://helm.sh/docs/intro/install/))\n"
   ]
  },
  {
   "cell_type": "code",
   "execution_count": null,
   "id": "517666d2",
   "metadata": {},
   "outputs": [],
   "source": [
    "!helm repo add flyteorg https://helm.flyte.org"
   ]
  },
  {
   "cell_type": "markdown",
   "id": "e5d40062",
   "metadata": {},
   "source": [
    "Installiert die flyte dependencies, `flyte-deps`"
   ]
  },
  {
   "cell_type": "code",
   "execution_count": null,
   "id": "4e1d6da0",
   "metadata": {
    "scrolled": true
   },
   "outputs": [],
   "source": [
    "!helm install flyte-deps flyteorg/flyte-deps -n flyte --create-namespace -f https://raw.githubusercontent.com/flyteorg/flyte/master/charts/flyte-deps/values-sandbox.yaml"
   ]
  },
  {
   "cell_type": "markdown",
   "id": "4c64a5db",
   "metadata": {},
   "source": [
    "Hier haben wir einen `Minio Bucket` (ähnlich wie S3), `postgres`, das `Flyte Dashboard` und einen `contour` ingress controller installiert."
   ]
  },
  {
   "cell_type": "markdown",
   "id": "68b1269a",
   "metadata": {},
   "source": [
    "Installiert `flyte-core`"
   ]
  },
  {
   "cell_type": "code",
   "execution_count": null,
   "id": "659fb677",
   "metadata": {
    "scrolled": false
   },
   "outputs": [],
   "source": [
    "!helm install flyte flyteorg/flyte-core -n flyte -f https://raw.githubusercontent.com/flyteorg/flyte/master/charts/flyte-core/values-sandbox.yaml --wait"
   ]
  },
  {
   "cell_type": "markdown",
   "id": "d84ceb34",
   "metadata": {},
   "source": [
    "Überzeugt euch, dass die Pods da sind"
   ]
  },
  {
   "cell_type": "code",
   "execution_count": null,
   "id": "468085a1",
   "metadata": {
    "scrolled": true
   },
   "outputs": [],
   "source": [
    "!kubectl get pods -n flyte"
   ]
  },
  {
   "cell_type": "markdown",
   "id": "e1eef991",
   "metadata": {},
   "source": [
    "`-n flyte` steht für `--namespace flyte`."
   ]
  },
  {
   "cell_type": "markdown",
   "id": "994915db",
   "metadata": {},
   "source": [
    "Öffnet nun unter http://127.0.0.1:30081/console/ das Flyte Dashboard im Browser.\n",
    "\n",
    "**NOTE** Wir hatten den k3d Cluster so konfiguriert, das manche Ports falls möglich automatisch auf localhost verfügbar gemacht werden. Falls der Port 30081 nicht verfügbar ist müssen wir diesen manuell in einem anderen Terminalfenster verfügbar machen: \n",
    "\n",
    "```bash\n",
    "kubectl port-forward svc/flyte-deps-contour-envoy 30081:80 -n flyte\n",
    "```\n",
    "\n",
    "Dieser Befehlt leitet localhost:30081 auf Port 80 des Service `flyte-deps-contour-envoy` weiter, welcher sich um die Weiterleitung zum Flyte Dashboard kümmert."
   ]
  },
  {
   "cell_type": "markdown",
   "id": "7f166448",
   "metadata": {},
   "source": [
    "### 3 Pipeline packagen, registrieren und ausführen"
   ]
  },
  {
   "cell_type": "markdown",
   "id": "f1309458",
   "metadata": {},
   "source": [
    "#### 3.1 Docker image bauen und pushen"
   ]
  },
  {
   "cell_type": "markdown",
   "id": "11a12908",
   "metadata": {},
   "source": [
    "Unser Flyte Workflow benötigt ein Image in dem u.A. alle Dependencies enthalten sind, welche in den Flyte Workflow importiert werden. Wir bauen dieses Image mit dem Dockerfile `./Dockerfile`"
   ]
  },
  {
   "cell_type": "code",
   "execution_count": null,
   "id": "349d97a3",
   "metadata": {
    "scrolled": true
   },
   "outputs": [],
   "source": [
    "!docker build -t localhost:5000/workflow:latest ."
   ]
  },
  {
   "cell_type": "code",
   "execution_count": null,
   "id": "76ac2456",
   "metadata": {
    "scrolled": true
   },
   "outputs": [],
   "source": [
    "!docker push localhost:5000/workflow:latest"
   ]
  },
  {
   "cell_type": "markdown",
   "id": "4f61d0ee",
   "metadata": {},
   "source": [
    "Schaut euch an was in einem Container mit diesem Image enthalten ist:"
   ]
  },
  {
   "cell_type": "code",
   "execution_count": null,
   "id": "49858115",
   "metadata": {},
   "outputs": [],
   "source": [
    "!docker run -it localhost:5000/workflow ls"
   ]
  },
  {
   "cell_type": "markdown",
   "id": "d96238b3",
   "metadata": {},
   "source": [
    "Der eigentliche Workflow code ist im Docker Image noch nicht enthalten. Flyte erstellt bei der Registrierung des Workflows ein tar Archiv, welches in einem Bucket gespeichert wird. Die Worker, die die tasks des Workflows ausführen, laden den Code aus diesem Bucket heruntern. Dies erlaubt schnelles Iterieren bei der Entwicklung des Workflows, da das Docker Image nur erneut gebaut werden muss, wenn neue Requirements hinzugefügt werden."
   ]
  },
  {
   "cell_type": "markdown",
   "id": "9c4ebef1",
   "metadata": {},
   "source": [
    "#### 3.2 Packen und registrieren des Workflows  (`workflow_part1.py`)\n",
    "Dieser befindet sich in `flytesnacks/workflows/workflow_part1.py` und wird durch das folgende Script registriert:"
   ]
  },
  {
   "cell_type": "code",
   "execution_count": null,
   "id": "c648703e",
   "metadata": {
    "scrolled": true
   },
   "outputs": [],
   "source": [
    "!pyflyte --config flyte_config register --project flytesnacks\\\n",
    "        --image k3d-registry.localhost:5000/workflow:latest\\\n",
    "        --version 1 flytesnacks/workflows/workflow_part1.py"
   ]
  },
  {
   "cell_type": "markdown",
   "id": "2414e154",
   "metadata": {},
   "source": [
    "#### 3.3 Manuelles lunchen des Workflows"
   ]
  },
  {
   "cell_type": "markdown",
   "id": "fac0fae0",
   "metadata": {},
   "source": [
    "Nun öffnet den registrierten Workflow im Flyte Dashboard, [hier](http://localhost:30081/console/projects/flytesnacks/domains/development/workflows/flytesnacks.workflows.workflow_part1.pipeline), und klickt auf `Lunch Workflow`."
   ]
  },
  {
   "cell_type": "markdown",
   "id": "556a5bb9",
   "metadata": {},
   "source": [
    "Vergewissert euch, dass die Tasks erfolgreich durchgelaufen sind"
   ]
  },
  {
   "cell_type": "code",
   "execution_count": null,
   "id": "cfc1d722",
   "metadata": {},
   "outputs": [],
   "source": [
    "!kubectl get pods -n flytesnacks-development"
   ]
  },
  {
   "cell_type": "markdown",
   "id": "08ba4b06",
   "metadata": {},
   "source": [
    "Zeigt euch die Logs für den ersten Tasks `n0` an"
   ]
  },
  {
   "cell_type": "code",
   "execution_count": null,
   "id": "4e76ec09",
   "metadata": {
    "scrolled": true
   },
   "outputs": [],
   "source": [
    "!kubectl get pods -n flytesnacks-development | grep 'n0' | awk '{print $1}' | xargs -L 1 kubectl -n flytesnacks-development logs "
   ]
  },
  {
   "cell_type": "markdown",
   "id": "54bada73",
   "metadata": {},
   "source": [
    "Zeigt euch die Logs für den zweiten Tasks `n1` an"
   ]
  },
  {
   "cell_type": "code",
   "execution_count": null,
   "id": "a864fbc1",
   "metadata": {
    "scrolled": true
   },
   "outputs": [],
   "source": [
    "!kubectl get pods -n flytesnacks-development | grep 'n1' | awk '{print $1}' | xargs -L 1 kubectl -n flytesnacks-development logs "
   ]
  },
  {
   "cell_type": "markdown",
   "id": "5c106529",
   "metadata": {},
   "source": [
    "Zeigt euch die Logs für den dritten Tasks `n2` an"
   ]
  },
  {
   "cell_type": "code",
   "execution_count": null,
   "id": "8d007d09",
   "metadata": {
    "scrolled": true
   },
   "outputs": [],
   "source": [
    "!kubectl get pods -n flytesnacks-development | grep 'n2' | awk '{print $1}' | xargs -L 1 kubectl -n flytesnacks-development logs "
   ]
  },
  {
   "cell_type": "markdown",
   "id": "756ff8e5",
   "metadata": {},
   "source": [
    "Logs von einem Kubernetes Pod zeigt man grundsätzlich folgendermaßen an:\n",
    "\n",
    "```console\n",
    "kubectl get pods -n <namespace name>   # Finde pod id heraus\n",
    "kubectl -n <namespace name> logs -f <pod id>\n",
    "```"
   ]
  },
  {
   "cell_type": "markdown",
   "id": "fce0275c",
   "metadata": {},
   "source": [
    "### 4 Automatische Workflow Registrierung"
   ]
  },
  {
   "cell_type": "markdown",
   "id": "093a63fb",
   "metadata": {},
   "source": [
    "#### 4.1 Git Repository initialisieren"
   ]
  },
  {
   "cell_type": "code",
   "execution_count": null,
   "id": "6c981e67",
   "metadata": {},
   "outputs": [],
   "source": [
    "%%bash\n",
    "if git rev-parse --git-dir > /dev/null 2>&1; then\n",
    "  : # This is a valid git repository (but the current working\n",
    "    # directory may not be the top level.\n",
    "    # Check the output of the git rev-parse command if you care)\n",
    "    echo \"Warning, this notebook assumes one starts from a fresh git repository!\"\n",
    "else\n",
    "  : \n",
    "  git init\n",
    "  git add .\n",
    "  git branch -m main\n",
    "  git commit -m \"First commit\"\n",
    "fi"
   ]
  },
  {
   "cell_type": "markdown",
   "id": "a67aff88",
   "metadata": {},
   "source": [
    "0. Erstellt ein **privates** github repository\n",
    "1. Substituiert euren GitHub Username für `<YOUR_GITHUB_USER>` unten\n",
    "2. \n",
    "    - Erzeugt einen persönlichen Access Token, hier: https://github.com/settings/tokens/new\n",
    "    - Gebt die Permissions für Repo und klickt `Generate token`\n",
    "        - [x] repo\n",
    "          - [x] repo:status\n",
    "          - [x] repo_deployment\n",
    "          - [x] public_repo\n",
    "          - [x] repo:invite\n",
    "          - [x] security_events\n",
    "    - Substituiert euren GitHub Token für `<YOUR_GITHUB_TOKEN>` unten\n",
    "3. Substituiert eure GitHub Repo unten.\n",
    "4. Führt die nächste Zelle aus und **entfernt sie anschließend, damit das Token nicht in der Output Zelle des notebooks gespeichert wird!**\n",
    "\n",
    "\n",
    "\n",
    "**YOUR GITHUB TOKEN IS LIKE A PASSWORD TO YOUR GITHUB ACCOUNT, DO NOT SHARE!**\n"
   ]
  },
  {
   "cell_type": "code",
   "execution_count": null,
   "id": "0254c363",
   "metadata": {},
   "outputs": [],
   "source": [
    "%%bash\n",
    "cat > .env <<EOF\n",
    "GITHUB_USER=<YOUR_GITHUB_USER>\n",
    "GITHUB_TOKEN=<YOUR_GITHUB_TOKEN>\n",
    "GITHUB_REPO=https://github.com/<owner>/<repo>.git\n",
    "GITHUB_REPO_SSH=git@github.com:<owner>/<repo>.git\n",
    "EOF"
   ]
  },
  {
   "cell_type": "markdown",
   "id": "4492121b",
   "metadata": {},
   "source": [
    "Ladet die Variablen der Environment"
   ]
  },
  {
   "cell_type": "code",
   "execution_count": null,
   "id": "0563caf1",
   "metadata": {},
   "outputs": [],
   "source": [
    "import dotenv\n",
    "dotenv.load_dotenv()"
   ]
  },
  {
   "cell_type": "markdown",
   "id": "6507a8da",
   "metadata": {},
   "source": [
    "Pusht den Code auf den main branch euer remote Repository"
   ]
  },
  {
   "cell_type": "code",
   "execution_count": null,
   "id": "1c999ffa",
   "metadata": {},
   "outputs": [],
   "source": [
    "!git remote add origin ${GITHUB_REPO_SSH}\n",
    "!git push -u origin main"
   ]
  },
  {
   "cell_type": "markdown",
   "id": "a89afaff",
   "metadata": {},
   "source": [
    "\n",
    "#### 4.2 Installiert Argo CD"
   ]
  },
  {
   "cell_type": "code",
   "execution_count": null,
   "id": "c36aed20",
   "metadata": {},
   "outputs": [],
   "source": [
    "!kubectl create ns argo"
   ]
  },
  {
   "cell_type": "markdown",
   "id": "557ed72c",
   "metadata": {},
   "source": [
    "Installiert Argo CD in den Cluster"
   ]
  },
  {
   "cell_type": "code",
   "execution_count": null,
   "id": "4d421ac7",
   "metadata": {},
   "outputs": [],
   "source": [
    "!kubectl apply -n argo -f https://raw.githubusercontent.com/argoproj/argo-workflows/master/manifests/quick-start-postgres.yaml"
   ]
  },
  {
   "cell_type": "markdown",
   "id": "6f898fd6",
   "metadata": {},
   "source": [
    "Wartet bis die Pods gestartet sind"
   ]
  },
  {
   "cell_type": "code",
   "execution_count": null,
   "id": "d6ffa234",
   "metadata": {
    "scrolled": true
   },
   "outputs": [],
   "source": [
    "!kubectl wait --for condition=ready --timeout=300s pods --all -n argo"
   ]
  },
  {
   "cell_type": "markdown",
   "id": "d8adcf29",
   "metadata": {},
   "source": [
    "Überzeugt euch, dass die Pods da sind"
   ]
  },
  {
   "cell_type": "code",
   "execution_count": null,
   "id": "a970762d",
   "metadata": {
    "scrolled": true
   },
   "outputs": [],
   "source": [
    "!kubectl get pods -n argo"
   ]
  },
  {
   "cell_type": "markdown",
   "id": "d281eed2",
   "metadata": {},
   "source": [
    "Macht den Port 2746 lokal verfügbar, indem ihr in einem neuen Terminalfenster den folgenden Befehl ausführt: \n",
    "```bash\n",
    "kubectl -n argo port-forward svc/argo-server 2746:2746\n",
    "```\n",
    "Anschließend könnt ihr das `Argo CD Dashboard` auf https://localhost:2746 öffnen"
   ]
  },
  {
   "cell_type": "markdown",
   "id": "d29b40df",
   "metadata": {},
   "source": [
    "Erzeugt das Kubernetes Secret in `argo_cred.yaml`, damit der Argo Workflow im Cluster auf die GitHub Repository zugreifen kann. Wir substituieren die Environment Variablen mit envsubst:"
   ]
  },
  {
   "cell_type": "code",
   "execution_count": null,
   "id": "232b3584",
   "metadata": {},
   "outputs": [],
   "source": [
    "!echo $GITHUB_REPO"
   ]
  },
  {
   "cell_type": "code",
   "execution_count": null,
   "id": "baad4f8d",
   "metadata": {},
   "outputs": [],
   "source": [
    "!cat argo_cred.yaml | envsubst | kubectl apply -f -"
   ]
  },
  {
   "cell_type": "markdown",
   "id": "2cf33996",
   "metadata": {},
   "source": [
    "#### 4.3 Erstellt den Argo Workflow (`workflow_part1.py`)\n",
    "Der folgende Argo Workflow könnte von einem CI/CD Workflow gestartet werden, sodass bei jedem Commit in `flytesnacks/workflows` der Flyte Workflow gestartet wird. So wäre der Stand des Codes mit den Experimenten verknüpft."
   ]
  },
  {
   "cell_type": "markdown",
   "id": "8d5a630a",
   "metadata": {},
   "source": [
    "Der folgende Befehlt sollte eure GitHub Repo zeigen (HTTPS Link):"
   ]
  },
  {
   "cell_type": "code",
   "execution_count": null,
   "id": "6d260d7f",
   "metadata": {},
   "outputs": [],
   "source": [
    "!echo $GITHUB_REPO"
   ]
  },
  {
   "cell_type": "markdown",
   "id": "3ffadad4",
   "metadata": {},
   "source": [
    "Erzeugt den Argo Workflow in `argo_cicd_workflow.yaml`. Indem ihr die Environment Variable `WORKFLOW=workflow_part1` mit envsubst substituiert wird der Flyte Workflow `flytesnacks/workflows/workflow_part1.py` gepackt, registriert und ausgeführt.\n",
    "\n",
    "**Note** `Argo Workflow` (CD) triggers `Flyte Workflow` (MlOps)"
   ]
  },
  {
   "cell_type": "code",
   "execution_count": null,
   "id": "4943d3ba",
   "metadata": {
    "scrolled": true
   },
   "outputs": [],
   "source": [
    "%env WORKFLOW=workflow_part1\n",
    "!cat argo_cicd_workflow.yaml | envsubst | kubectl -n argo create -f -"
   ]
  },
  {
   "cell_type": "markdown",
   "id": "de5ea099",
   "metadata": {},
   "source": [
    "Den Status des CICD workflows kann man unter [https://localhost:2746/workflows?limit=500](https://localhost:2746/workflows?limit=500) sehen.\n",
    "\n",
    "1. Zunächst wird das Github repository geclont.\n",
    "2. Dann wird der Flyte workflow registriert und ausgeführt.\n",
    "\n",
    "Den Status des Flyte workflows kann man in der  [Flyte Console](http://127.0.0.1:30081/console/projects/flytesnacks/domains/development/workflows/flytesnacks.workflows.workflow_part1.pipeline) sehen."
   ]
  },
  {
   "cell_type": "markdown",
   "id": "5a63589b",
   "metadata": {},
   "source": [
    "Schaut, dass der Argo Workflow erfolgreich durchläuft:"
   ]
  },
  {
   "cell_type": "code",
   "execution_count": null,
   "id": "07da7716",
   "metadata": {},
   "outputs": [],
   "source": [
    "!kubectl get workflow -n argo"
   ]
  },
  {
   "cell_type": "markdown",
   "id": "7e73fa12",
   "metadata": {},
   "source": [
    "Schaut, dass der Workflow in Flyte durchläuft, es sollten nacheinander die Pods mit der Endung `-n0-0`, `-n1-0` und `-n2-0` auftauchen:"
   ]
  },
  {
   "cell_type": "code",
   "execution_count": null,
   "id": "e9d03582",
   "metadata": {},
   "outputs": [],
   "source": [
    "!kubectl get pods -n flytesnacks-development"
   ]
  },
  {
   "cell_type": "markdown",
   "id": "a2e8d478",
   "metadata": {},
   "source": [
    "# Session 2"
   ]
  },
  {
   "cell_type": "code",
   "execution_count": null,
   "id": "e6b21e4d",
   "metadata": {},
   "outputs": [],
   "source": [
    "import dotenv\n",
    "dotenv.load_dotenv()"
   ]
  },
  {
   "cell_type": "markdown",
   "id": "6ac5abb9",
   "metadata": {},
   "source": [
    "## 5 Mlflow-Tracking-Server Deployment"
   ]
  },
  {
   "cell_type": "markdown",
   "id": "dad4013e",
   "metadata": {},
   "source": [
    "#### 5.1 Baut das Docker Image für Mlflow"
   ]
  },
  {
   "cell_type": "code",
   "execution_count": null,
   "id": "04867d6f",
   "metadata": {},
   "outputs": [],
   "source": [
    "!docker build -t localhost:5000/mlflow:latest infrastructure/mlflow_tracking_server"
   ]
  },
  {
   "cell_type": "code",
   "execution_count": null,
   "id": "369793b4",
   "metadata": {},
   "outputs": [],
   "source": [
    "!docker push localhost:5000/mlflow:latest"
   ]
  },
  {
   "cell_type": "markdown",
   "id": "5cf1403d",
   "metadata": {
    "scrolled": false
   },
   "source": [
    "Deployt Mlflow im Cluster. Dafür wird das Mlflow Image benötigt"
   ]
  },
  {
   "cell_type": "code",
   "execution_count": null,
   "id": "254e2a8d",
   "metadata": {
    "scrolled": true
   },
   "outputs": [],
   "source": [
    "!kubectl apply -f infrastructure/mlflow_tracking_server/manifests/namespace.yaml\n",
    "!kubectl apply -f infrastructure/mlflow_tracking_server/manifests"
   ]
  },
  {
   "cell_type": "code",
   "execution_count": null,
   "id": "9d05674b",
   "metadata": {},
   "outputs": [],
   "source": [
    "!kubectl wait --for condition=ready --timeout=300s pods --all -n mlflow"
   ]
  },
  {
   "cell_type": "markdown",
   "id": "c22ad226",
   "metadata": {},
   "source": [
    "Überzeugt euch, dass die Pods da sind"
   ]
  },
  {
   "cell_type": "code",
   "execution_count": null,
   "id": "64ac8121",
   "metadata": {},
   "outputs": [],
   "source": [
    "!kubectl get pods -n mlflow"
   ]
  },
  {
   "cell_type": "markdown",
   "id": "95e2fb9b",
   "metadata": {},
   "source": [
    "#### 5.2 Minimales Mlflow Beispiel"
   ]
  },
  {
   "cell_type": "markdown",
   "id": "19365b0e",
   "metadata": {},
   "source": [
    "**Wichtig:** Macht Mlflow auf dem lokalen Port 5001 verfügbar, indem ihr in einem **neuen Terminalfenster** den **folgenden Befehl ausführt**: \n",
    "```bash\n",
    "kubectl -n mlflow port-forward svc/mlflow-server-service 5001:5000\n",
    "```\n",
    "Anschließend öffnet das `Mlflow Dashboard` auf http://127.0.0.1:5001"
   ]
  },
  {
   "cell_type": "markdown",
   "id": "42cd1adb",
   "metadata": {},
   "source": [
    "Führt dieses minimale Mlflow Experiment aus und schaut, dass im `Mlflow Dashboard` ein neuer Run mit Metrik `foo` auftaucht."
   ]
  },
  {
   "cell_type": "code",
   "execution_count": null,
   "id": "e4d58872",
   "metadata": {},
   "outputs": [],
   "source": [
    "import mlflow\n",
    "mlflow.set_tracking_uri(\"http://localhost:5001\")\n",
    "mlflow.start_run()\n",
    "mlflow.log_metric(\"foo\", 1)\n",
    "mlflow.end_run()"
   ]
  },
  {
   "cell_type": "markdown",
   "id": "eece51fc",
   "metadata": {},
   "source": [
    "#### 5.3 Mlflow in der automatisierten Pipeline (`workflow_part2.py`)"
   ]
  },
  {
   "cell_type": "markdown",
   "id": "99daad7d",
   "metadata": {},
   "source": [
    "Erzeugt den Argo Workflow in `argo_cicd_workflow.yaml`. Indem ihr die Environment Variable `WORKFLOW=workflow_part2` mit envsubst substituiert wird der Flyte Workflow `flytesnacks/workflows/workflow_part2.py` gepackt, registriert und ausgeführt.\n",
    "\n",
    "**Note** `Argo Workflow` (CD) triggered `Flyte Workflow` (MlOps)"
   ]
  },
  {
   "cell_type": "code",
   "execution_count": null,
   "id": "92818d32",
   "metadata": {
    "scrolled": true
   },
   "outputs": [],
   "source": [
    "%env WORKFLOW=workflow_part2\n",
    "!cat argo_cicd_workflow.yaml | envsubst | kubectl -n argo create -f -"
   ]
  },
  {
   "cell_type": "markdown",
   "id": "aa0832ce",
   "metadata": {},
   "source": [
    "Schaut, dass der Argo Workflow erfolgreich durchläuft:"
   ]
  },
  {
   "cell_type": "code",
   "execution_count": null,
   "id": "50dccadc",
   "metadata": {},
   "outputs": [],
   "source": [
    "!kubectl get workflow -n argo"
   ]
  },
  {
   "cell_type": "markdown",
   "id": "9323b449",
   "metadata": {},
   "source": [
    "Schaut, dass der Workflow in Flyte durchläuft, es sollten nacheinander die Pods mit der Endung `-n0-0`, `-n1-0` und `-n2-0` auftauchen:"
   ]
  },
  {
   "cell_type": "code",
   "execution_count": null,
   "id": "5400292f",
   "metadata": {},
   "outputs": [],
   "source": [
    "!kubectl get pods -n flytesnacks-development"
   ]
  },
  {
   "cell_type": "markdown",
   "id": "a48f6337",
   "metadata": {},
   "source": [
    "Öffnet das [Mlflow Dashboard](http://127.0.0.1:5001) und schaut, dass ein neuer Run angelegt, entsprechende Parameter und Metriken gelogged und Artifakte registriert worden sind."
   ]
  },
  {
   "cell_type": "markdown",
   "id": "9f3b5a67",
   "metadata": {},
   "source": [
    "# Session 3"
   ]
  },
  {
   "cell_type": "code",
   "execution_count": null,
   "id": "2703a738",
   "metadata": {},
   "outputs": [],
   "source": [
    "import dotenv\n",
    "dotenv.load_dotenv()"
   ]
  },
  {
   "cell_type": "markdown",
   "id": "35590022",
   "metadata": {},
   "source": [
    "### 6 Deployment eines Models mit `Mlflow serve`"
   ]
  },
  {
   "cell_type": "markdown",
   "id": "6678ca58",
   "metadata": {},
   "source": [
    "#### 6.1 (optional) Datensichtung im MinIO Bucket\n",
    "Hierzu müsst ihr leider nochmals den MinIO Client (mc) installieren. Z.B. mit `brew install minio/stable/mc` oder siehe die Installationsseite, [hier](https://min.io/docs/minio/linux/reference/minio-mc.html#quickstart)."
   ]
  },
  {
   "cell_type": "markdown",
   "id": "9862764d",
   "metadata": {},
   "source": [
    "Schaut euch die Daten in unserem minio Bucket aus dem Flyte Deployment an."
   ]
  },
  {
   "cell_type": "code",
   "execution_count": null,
   "id": "3ada9b51",
   "metadata": {},
   "outputs": [],
   "source": [
    "!mc alias set flyte http://localhost:30084 minio miniostorage --api S3v4"
   ]
  },
  {
   "cell_type": "code",
   "execution_count": null,
   "id": "4249e016",
   "metadata": {},
   "outputs": [],
   "source": [
    "!mc ls flyte/my-s3-bucket/breast_cancer_test_size_0.3/"
   ]
  },
  {
   "cell_type": "code",
   "execution_count": null,
   "id": "7100fa57",
   "metadata": {},
   "outputs": [],
   "source": [
    "!mc head -n 2 flyte/my-s3-bucket/breast_cancer_test_size_0.3/X_test.csv"
   ]
  },
  {
   "cell_type": "markdown",
   "id": "44a288a3",
   "metadata": {},
   "source": [
    "#### 6.2 Deployen eines Modells mit `Mlflow serve`"
   ]
  },
  {
   "cell_type": "markdown",
   "id": "560d65bf",
   "metadata": {},
   "source": [
    "Führt den folgenden Befehl in einem **seperaten Terminalfenster** mit eurer **aktivierten venv** aus: \n",
    "```bash\n",
    "mlflow models serve -m workshop_material/model -p 5002 \\\n",
    "    --env-manager=local\n",
    "```"
   ]
  },
  {
   "cell_type": "markdown",
   "id": "ca82f77a",
   "metadata": {},
   "source": [
    "#### 6.3 Inference des mit `Mlflow serve` deployten Modells"
   ]
  },
  {
   "cell_type": "code",
   "execution_count": null,
   "id": "6a05f69d",
   "metadata": {},
   "outputs": [],
   "source": [
    "%%bash\n",
    "curl --silent http://127.0.0.1:5002/invocations -H 'Content-Type: application/json; format=pandas-records' \\\n",
    "-d '[{\"mean radius\": 13.0, \"mean texture\": 25.13, \"mean perimeter\": 82.61, \"mean area\": 520.2, \"mean smoothness\": 0.08369, \"mean compactness\": 0.05073, \"mean concavity\": 0.01206, \"mean concave points\": 0.01762, \"mean symmetry\": 0.1667, \"mean fractal dimension\": 0.05449, \"radius error\": 0.2621, \"texture error\": 1.232, \"perimeter error\": 1.657, \"area error\": 21.19, \"smoothness error\": 0.006054, \"compactness error\": 0.008974, \"concavity error\": 0.005681, \"concave points error\": 0.006336, \"symmetry error\": 0.01215, \"fractal dimension error\": 0.001514, \"worst radius\": 14.34, \"worst texture\": 31.88, \"worst perimeter\": 91.06, \"worst area\": 628.5, \"worst smoothness\": 0.1218, \"worst compactness\": 0.1093, \"worst concavity\": 0.04462, \"worst concave points\": 0.05921, \"worst symmetry\": 0.2306, \"worst fractal dimension\": 0.06291}]'"
   ]
  },
  {
   "cell_type": "markdown",
   "id": "725504e4",
   "metadata": {},
   "source": [
    "### 7 Manuelles Deployment eines Models mit `Seldon-Core`"
   ]
  },
  {
   "cell_type": "markdown",
   "id": "2d80de6e",
   "metadata": {},
   "source": [
    "#### 7.1 Installiert Istio"
   ]
  },
  {
   "cell_type": "markdown",
   "id": "9e492189",
   "metadata": {},
   "source": [
    "Seldon-Core kümmert sich zusammen mit Istio um das Traffic Management in unserem Cluster. Das erlaubt uns, **verschiedene Modelle auf ähnlichen Domainpfaden** zu erreichen, z.B.:\n",
    "1. localhost:8080/seldon/inference/**breast-cancer-clf**/api/v1.0/predictions\n",
    "\n",
    "2. localhost:8080/seldon/inference/**my-other-model**/api/v1.0/predictions\n",
    "\n"
   ]
  },
  {
   "cell_type": "code",
   "execution_count": null,
   "id": "0c39fcdc",
   "metadata": {},
   "outputs": [],
   "source": [
    "!kubectl create namespace istio-system"
   ]
  },
  {
   "cell_type": "code",
   "execution_count": null,
   "id": "4d8dee88",
   "metadata": {
    "scrolled": true
   },
   "outputs": [],
   "source": [
    "!kubectl apply -f infrastructure/service_mesh/istio_crds.yaml"
   ]
  },
  {
   "cell_type": "code",
   "execution_count": null,
   "id": "0b24645a",
   "metadata": {
    "scrolled": true
   },
   "outputs": [],
   "source": [
    "!kubectl apply -f infrastructure/service_mesh/"
   ]
  },
  {
   "cell_type": "code",
   "execution_count": null,
   "id": "ef9d78ef",
   "metadata": {},
   "outputs": [],
   "source": [
    "!kubectl wait --for condition=ready --timeout=300s pods --all -n istio-system"
   ]
  },
  {
   "cell_type": "code",
   "execution_count": null,
   "id": "6ca9d415",
   "metadata": {},
   "outputs": [],
   "source": [
    "!kubectl get pods -n istio-system"
   ]
  },
  {
   "cell_type": "markdown",
   "id": "3ca831f7",
   "metadata": {},
   "source": [
    "#### 7.2 Installiert Seldon-Core"
   ]
  },
  {
   "cell_type": "markdown",
   "id": "0e58a047",
   "metadata": {},
   "source": [
    "Man kann sich Seldon-Core als einen Flask Wrapper vorstellen, der ein Model initialisiert und bei einem Inference-Request die `predict()` Methode ausführt.\n",
    "```python\n",
    "class Model:\n",
    "    def __init__(self, ...):\n",
    "    \"\"\"Custom logic that prepares model.\n",
    "\n",
    "    - Reusable servers: your_loader downloads model from\n",
    "    remote repository.\n",
    "    - Non-Reusable servers: your_loader loads model from \n",
    "    a file embedded in the image.\n",
    "    \"\"\"\n",
    "    self._model = your_loader(...)\n",
    "\n",
    "    def predict(self, features, names=[], meta=[]):\n",
    "    \"\"\"Custom inference logic.\"\"\"\"\n",
    "    return self._model.predict(...)\n",
    "```"
   ]
  },
  {
   "cell_type": "code",
   "execution_count": null,
   "id": "15d497e5",
   "metadata": {},
   "outputs": [],
   "source": [
    "!kubectl create namespace inference \n",
    "!kubectl create namespace inference-test"
   ]
  },
  {
   "cell_type": "code",
   "execution_count": null,
   "id": "8d37d258",
   "metadata": {},
   "outputs": [],
   "source": [
    "!helm install seldon-core seldon-core-operator \\\n",
    "    --repo https://storage.googleapis.com/seldon-charts \\\n",
    "    --set usageMetrics.enabled=true \\\n",
    "    --set istio.enabled=true \\\n",
    "    --namespace seldon-system --create-namespace"
   ]
  },
  {
   "cell_type": "code",
   "execution_count": null,
   "id": "a91997e3",
   "metadata": {},
   "outputs": [],
   "source": [
    "!kubectl wait --for condition=ready --timeout=300s pods --all -n seldon-system"
   ]
  },
  {
   "cell_type": "code",
   "execution_count": null,
   "id": "f71374df",
   "metadata": {},
   "outputs": [],
   "source": [
    "!kubectl get pods -n seldon-system"
   ]
  },
  {
   "cell_type": "markdown",
   "id": "54f95757",
   "metadata": {},
   "source": [
    "#### 7.3 Bauen des Classifier Docker Images"
   ]
  },
  {
   "cell_type": "markdown",
   "id": "28e9e08b",
   "metadata": {},
   "source": [
    "Wir containerisieren nun ein einfaches Klassifizierungsmodel:\n",
    "```\n",
    "tree flytesnacks/seldon/templates\n",
    "flytesnacks/seldon/templates\n",
    "├── Classifier.py\n",
    "├── Dockerfile\n",
    "└── seldon_deployment.yaml\n",
    "```\n",
    "In Classifier.py haben wir unsere Modellklasse"
   ]
  },
  {
   "cell_type": "code",
   "execution_count": null,
   "id": "d7b58bc8",
   "metadata": {},
   "outputs": [],
   "source": [
    "!cat flytesnacks/seldon/templates/Classifier.py | grep -A 2 \"def \" "
   ]
  },
  {
   "cell_type": "code",
   "execution_count": null,
   "id": "240f4d25",
   "metadata": {},
   "outputs": [],
   "source": [
    "!docker build -t localhost:5000/classifier:latest flytesnacks/seldon/templates"
   ]
  },
  {
   "cell_type": "code",
   "execution_count": null,
   "id": "7b1ec97e",
   "metadata": {},
   "outputs": [],
   "source": [
    "!docker push localhost:5000/classifier:latest"
   ]
  },
  {
   "cell_type": "markdown",
   "id": "3d56fc51",
   "metadata": {},
   "source": [
    "#### 7.4 Manuelles deployen des Classifiers"
   ]
  },
  {
   "cell_type": "markdown",
   "id": "99d8b1aa",
   "metadata": {},
   "source": [
    "Kopiert die Modell-ID aus Mlflow und tragt sie im File `flytesnacks/seldon/templates/seldon_deployment.yaml` hier ein:\n",
    "```yaml\n",
    "21    value: \"my-s3-bucket/0/<model-id>/artifacts/model/model.pkl\"\n",
    "```\n",
    "Wenn ihr den MinIO Client installiert habt, könnt ihr die Modells-ID auch hier auslesen:"
   ]
  },
  {
   "cell_type": "code",
   "execution_count": null,
   "id": "87ef6d5e",
   "metadata": {},
   "outputs": [],
   "source": [
    "!mc ls flyte/my-s3-bucket/0/"
   ]
  },
  {
   "cell_type": "markdown",
   "id": "ac09232b",
   "metadata": {},
   "source": [
    "Tauscht die Modell-ID, wie zwei Zelle weiter oben beschrieben und wendet das Manifest an:"
   ]
  },
  {
   "cell_type": "code",
   "execution_count": null,
   "id": "58e2ebb8",
   "metadata": {
    "scrolled": true
   },
   "outputs": [],
   "source": [
    "!kubectl apply -f flytesnacks/seldon/templates/seldon_deployment.yaml"
   ]
  },
  {
   "cell_type": "markdown",
   "id": "ae9dc26a",
   "metadata": {},
   "source": [
    "Schaut euch die erzeuten Resourcen an:"
   ]
  },
  {
   "cell_type": "code",
   "execution_count": null,
   "id": "8eb909a3",
   "metadata": {},
   "outputs": [],
   "source": [
    "!kubectl get seldondeployment -n inference"
   ]
  },
  {
   "cell_type": "code",
   "execution_count": null,
   "id": "698db5d9",
   "metadata": {},
   "outputs": [],
   "source": [
    "!kubectl get deployments -n inference"
   ]
  },
  {
   "cell_type": "code",
   "execution_count": null,
   "id": "9a982ad6",
   "metadata": {},
   "outputs": [],
   "source": [
    "!kubectl get pods -n inference"
   ]
  },
  {
   "cell_type": "code",
   "execution_count": null,
   "id": "516ff5c4",
   "metadata": {},
   "outputs": [],
   "source": [
    "!kubectl get pods -n inference | grep breast-cancer | awk '{print $1}' | xargs kubectl describe pods -n inference | grep -A 50 Events"
   ]
  },
  {
   "cell_type": "markdown",
   "id": "ef60c48e",
   "metadata": {},
   "source": [
    "Führt in einem **neuen Terminalfenster** diesen Befehl aus:\n",
    "```bash\n",
    "kubectl -n istio-system port-forward svc/istio-ingressgateway 8080:80\n",
    "```\n",
    "Dies macht das Istio Ingressgateway auf Port 8080 verfügbar und somit können wir alle deployten Modelle bequem erreichen."
   ]
  },
  {
   "cell_type": "code",
   "execution_count": null,
   "id": "be3cff05",
   "metadata": {},
   "outputs": [],
   "source": [
    "!curl http://localhost:8080/seldon/inference/breast-cancer-clf/api/v1.0/predictions \\\n",
    "    -H 'Content-Type: application/json' \\\n",
    "    -d '{\"data\": {\"names\": [\"mean radius\", \"mean texture\", \"mean perimeter\", \"mean area\", \"mean smoothness\", \"mean compactness\", \"mean concavity\", \"mean concave points\", \"mean symmetry\", \"mean fractal dimension\", \"radius error\", \"texture error\", \"perimeter error\", \"area error\", \"smoothness error\", \"compactness error\", \"concavity error\", \"concave points error\", \"symmetry error\", \"fractal dimension error\", \"worst radius\", \"worst texture\", \"worst perimeter\", \"worst area\", \"worst smoothness\", \"worst compactness\", \"worst concavity\", \"worst concave points\", \"worst symmetry\", \"worst fractal dimension\"], \"ndarray\": [[13.0, 25.13, 82.61, 520.2, 0.084, 0.051, 0.012, 0.018, 0.167, 0.054, 0.262, 1.232, 1.657, 21.19, 0.006, 0.009, 0.006, 0.006, 0.012, 0.002, 14.34, 31.88, 91.06, 628.5, 0.122, 0.109, 0.045, 0.059, 0.231, 0.063]]}}'"
   ]
  },
  {
   "cell_type": "code",
   "execution_count": null,
   "id": "8d20a1b4",
   "metadata": {},
   "outputs": [],
   "source": [
    "!kubectl delete -f flytesnacks/seldon/templates/seldon_deployment.yaml"
   ]
  },
  {
   "cell_type": "markdown",
   "id": "e56debb0",
   "metadata": {},
   "source": [
    "### 8 Automatisches Deployment eines Classifiers mit `Seldon-Core`"
   ]
  },
  {
   "cell_type": "code",
   "execution_count": null,
   "id": "fc2504ad",
   "metadata": {},
   "outputs": [],
   "source": [
    "import dotenv\n",
    "dotenv.load_dotenv()"
   ]
  },
  {
   "cell_type": "markdown",
   "id": "b24b4851",
   "metadata": {},
   "source": [
    "Erstellt einen Service Account, welcher Seldondeployments im Namespace flyte erstellen darf. \n",
    "\n",
    "Wended dazu das rbac.yaml File an (Role-based Access Controll)."
   ]
  },
  {
   "cell_type": "code",
   "execution_count": null,
   "id": "37fda4ee",
   "metadata": {},
   "outputs": [],
   "source": [
    "!kubectl create namespace seldon-logs\n",
    "!kubectl apply -f infrastructure/flyte/rbac.yaml"
   ]
  },
  {
   "cell_type": "markdown",
   "id": "7fb35ae5",
   "metadata": {},
   "source": [
    "Zudem brauchen wir noch ein Secret mit dem Github Access Token im namespace flyte, um Pull Request in unserer Repository zu stellen."
   ]
  },
  {
   "cell_type": "code",
   "execution_count": null,
   "id": "1b5e3139",
   "metadata": {},
   "outputs": [],
   "source": [
    "!cat infrastructure/flyte/flyte_cred.yaml | envsubst | kubectl apply -f -"
   ]
  },
  {
   "cell_type": "markdown",
   "id": "c04f4875",
   "metadata": {},
   "source": [
    "Schaut euch den erstellten Service Account an."
   ]
  },
  {
   "cell_type": "code",
   "execution_count": null,
   "id": "c8c13e3c",
   "metadata": {},
   "outputs": [],
   "source": [
    "!kubectl get ServiceAccount -n flytesnacks-development"
   ]
  },
  {
   "cell_type": "markdown",
   "id": "ba076df9",
   "metadata": {},
   "source": [
    "#### 8.1 Installieren von ArgoCD aus dem ArgoProject"
   ]
  },
  {
   "cell_type": "markdown",
   "id": "95154d3f",
   "metadata": {},
   "source": [
    "Wir nutzen ArgoCD als GitOps Tool, welches alle Manifeste im Ordner `infrastructure/inference` automatisch anwendet."
   ]
  },
  {
   "cell_type": "code",
   "execution_count": null,
   "id": "87d53c03",
   "metadata": {},
   "outputs": [],
   "source": [
    "!kubectl create namespace argocd"
   ]
  },
  {
   "cell_type": "code",
   "execution_count": null,
   "id": "91a84157",
   "metadata": {},
   "outputs": [],
   "source": [
    "!kubectl apply -n argocd -f https://raw.githubusercontent.com/argoproj/argo-cd/stable/manifests/install.yaml"
   ]
  },
  {
   "cell_type": "code",
   "execution_count": null,
   "id": "21040e94",
   "metadata": {},
   "outputs": [],
   "source": [
    "!kubectl wait --for condition=ready --timeout=300s pods --all -n argocd"
   ]
  },
  {
   "cell_type": "code",
   "execution_count": null,
   "id": "54495d25",
   "metadata": {},
   "outputs": [],
   "source": [
    "!kubectl get pods -n argocd"
   ]
  },
  {
   "cell_type": "markdown",
   "id": "cb5641e2",
   "metadata": {},
   "source": [
    "Auch im Namespace argocd brauchen wir ein Secret mit den Github Access Token, damit wir die Repository vom Cluster aus pullen können."
   ]
  },
  {
   "cell_type": "code",
   "execution_count": null,
   "id": "c66ffd45",
   "metadata": {},
   "outputs": [],
   "source": [
    "!cat infrastructure/argocd/argocd_cred.yaml | envsubst | kubectl apply -f -"
   ]
  },
  {
   "cell_type": "code",
   "execution_count": null,
   "id": "c46417b0",
   "metadata": {},
   "outputs": [],
   "source": [
    "!echo $GITHUB_REPO"
   ]
  },
  {
   "cell_type": "code",
   "execution_count": null,
   "id": "8b3d7100",
   "metadata": {},
   "outputs": [],
   "source": [
    "!cat infrastructure/argocd_application_inference.yaml | envsubst | kubectl apply -f -"
   ]
  },
  {
   "cell_type": "code",
   "execution_count": null,
   "id": "f5d9f300",
   "metadata": {},
   "outputs": [],
   "source": [
    "!kubectl get app -n argocd"
   ]
  },
  {
   "cell_type": "code",
   "execution_count": null,
   "id": "1e9d0ad6",
   "metadata": {
    "scrolled": true
   },
   "outputs": [],
   "source": [
    "!kubectl describe app inference -n argocd | grep Events -A 20"
   ]
  },
  {
   "cell_type": "markdown",
   "id": "70e265f7",
   "metadata": {},
   "source": [
    "#### 8.2 Starten des CI Workflows und automatisches Deployment"
   ]
  },
  {
   "cell_type": "markdown",
   "id": "88a94a83",
   "metadata": {},
   "source": [
    "Vergewissert euch, dass die Env Variable GITHUB_REPO richtig gesetzt ist."
   ]
  },
  {
   "cell_type": "code",
   "execution_count": null,
   "id": "55d3fcfc",
   "metadata": {},
   "outputs": [],
   "source": [
    "!echo $GITHUB_REPO"
   ]
  },
  {
   "cell_type": "markdown",
   "id": "545283db",
   "metadata": {},
   "source": [
    "Der `deploy_model()` Task des Flyte Workflows erstellt einen PR in eurer Repository. Dieser PR enthält ein Kubernetes Manifest für ein Seldondeployment eures Modells, welches im Ordner `infrastructure/inference` gespeichert wird. Sobald ihr den PR merged wird das **Modell automatisch deployed** (das Manifest wird durch unsere ArgoCD GitOps Application auf dem Cluster angewandt)."
   ]
  },
  {
   "cell_type": "code",
   "execution_count": null,
   "id": "6319b18f",
   "metadata": {},
   "outputs": [],
   "source": [
    "%env WORKFLOW=workflow_part3\n",
    "!cat argo_cicd_workflow.yaml | envsubst | kubectl -n argo create -f -"
   ]
  },
  {
   "cell_type": "markdown",
   "id": "2af180ca",
   "metadata": {},
   "source": [
    "Die CI Pipeline registriert den Flyte Workflow und führt diesen im Namespace `flytesnacks-development` aus."
   ]
  },
  {
   "cell_type": "markdown",
   "id": "af6db120",
   "metadata": {},
   "source": [
    "Schaut euch den inference-test Namespace an, hier wird das Modell kurzzeitig deployed und getested."
   ]
  },
  {
   "cell_type": "code",
   "execution_count": null,
   "id": "c372fc6f",
   "metadata": {},
   "outputs": [],
   "source": [
    "!kubectl get pods -n inference-test"
   ]
  },
  {
   "cell_type": "code",
   "execution_count": null,
   "id": "c6757e9d",
   "metadata": {},
   "outputs": [],
   "source": [
    "!kubectl get seldondeployment -n inference-test"
   ]
  },
  {
   "cell_type": "markdown",
   "id": "856ec725",
   "metadata": {},
   "source": [
    "#### 8.3 Bestätigen des automatischen Deployments mit `Seldon-Core`"
   ]
  },
  {
   "cell_type": "markdown",
   "id": "f704e05c",
   "metadata": {},
   "source": [
    "Geht auf eure GitHub Repository:"
   ]
  },
  {
   "cell_type": "code",
   "execution_count": null,
   "id": "f053f340",
   "metadata": {},
   "outputs": [],
   "source": [
    "!echo $GITHUB_REPO"
   ]
  },
  {
   "cell_type": "markdown",
   "id": "5d387c93",
   "metadata": {},
   "source": [
    "Hier wurde ein Pull Request erstellt, welchen ihr zum bestätigen des Deployments mergen müsst. Dieser PR enthält das `Manifest eines SeldonDeployments`, welches in `infrastructure/inference` hinzugefügt wird."
   ]
  },
  {
   "cell_type": "markdown",
   "id": "9d790d0c",
   "metadata": {},
   "source": [
    "Schaut euch den inference Namespace an, hier wird das Modell deployt."
   ]
  },
  {
   "cell_type": "code",
   "execution_count": null,
   "id": "d670aa37",
   "metadata": {},
   "outputs": [],
   "source": [
    "!kubectl get seldondeployment -n inference\n",
    "!kubectl get pods -n inference"
   ]
  },
  {
   "cell_type": "markdown",
   "id": "9dfa9a46",
   "metadata": {},
   "source": [
    "#### 8.4 Inference auf dem automatisch deployten Modell"
   ]
  },
  {
   "cell_type": "markdown",
   "id": "4e8d003b",
   "metadata": {},
   "source": [
    "Macht den folgenden port-forward in einem **neuen Terminalfenster**:\n",
    "```bash\n",
    "kubectl -n istio-system port-forward svc/istio-ingressgateway 8080:80\n",
    "```"
   ]
  },
  {
   "cell_type": "code",
   "execution_count": null,
   "id": "f362f9ec",
   "metadata": {},
   "outputs": [],
   "source": [
    "!curl http://localhost:8080/seldon/inference/sklearn-random-forest-2/api/v1.0/predictions \\\n",
    "    -H 'Content-Type: application/json' \\\n",
    "    -d '{\"data\": {\"names\": [\"mean radius\", \"mean texture\", \"mean perimeter\", \"mean area\", \"mean smoothness\", \"mean compactness\", \"mean concavity\", \"mean concave points\", \"mean symmetry\", \"mean fractal dimension\", \"radius error\", \"texture error\", \"perimeter error\", \"area error\", \"smoothness error\", \"compactness error\", \"concavity error\", \"concave points error\", \"symmetry error\", \"fractal dimension error\", \"worst radius\", \"worst texture\", \"worst perimeter\", \"worst area\", \"worst smoothness\", \"worst compactness\", \"worst concavity\", \"worst concave points\", \"worst symmetry\", \"worst fractal dimension\"], \"ndarray\": [[13.0, 25.13, 82.61, 520.2, 0.084, 0.051, 0.012, 0.018, 0.167, 0.054, 0.262, 1.232, 1.657, 21.19, 0.006, 0.009, 0.006, 0.006, 0.012, 0.002, 14.34, 31.88, 91.06, 628.5, 0.122, 0.109, 0.045, 0.059, 0.231, 0.063]]}}'"
   ]
  }
 ],
 "metadata": {
  "kernelspec": {
   "display_name": "Python 3 (ipykernel)",
   "language": "python",
   "name": "python3"
  },
  "language_info": {
   "codemirror_mode": {
    "name": "ipython",
    "version": 3
   },
   "file_extension": ".py",
   "mimetype": "text/x-python",
   "name": "python",
   "nbconvert_exporter": "python",
   "pygments_lexer": "ipython3",
   "version": "3.8.9"
  },
  "vscode": {
   "interpreter": {
    "hash": "20d8fdd82910cf356d998d4aab61ec2f8f2ccd31677fa05c0b78aca3efea9090"
   }
  }
 },
 "nbformat": 4,
 "nbformat_minor": 5
}
